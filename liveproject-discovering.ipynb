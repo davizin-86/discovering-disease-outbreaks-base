{
 "cells": [
  {
   "cell_type": "code",
   "execution_count": 49,
   "metadata": {},
   "outputs": [],
   "source": [
    "import re\n",
    "from unidecode import unidecode\n",
    "import pandas as pd\n",
    "\n",
    "words_re = re.compile(r'\\w+', flags=re.IGNORECASE)\n",
    "\n",
    "def matches_in_line(line, d):\n",
    "    line = unidecode(line).lower()\n",
    "    words_list = words.findall(line)\n",
    "    start = 0\n",
    "    result = []\n",
    "    while start < len(words_list):\n",
    "        for end in range(len(words_list), start, -1):\n",
    "            if \" \".join(words_list[start:end]) in d:\n",
    "                result.append(' '.join(words_list[start:end]))\n",
    "                start = end - 1\n",
    "                break\n",
    "        start = start + 1\n",
    "    return result"
   ]
  },
  {
   "cell_type": "code",
   "execution_count": 41,
   "metadata": {
    "scrolled": false
   },
   "outputs": [],
   "source": [
    "with open('data/headlines.txt') as f:\n",
    "    headlines = [ line.strip() for line in f ]"
   ]
  },
  {
   "cell_type": "code",
   "execution_count": 45,
   "metadata": {
    "scrolled": false
   },
   "outputs": [],
   "source": [
    "import geonamescache\n",
    "gc = geonamescache.GeonamesCache()\n",
    "countries = { unidecode(k).lower() for k,v in gc.get_countries_by_names().items() }\n",
    "# countries.keys()"
   ]
  },
  {
   "cell_type": "code",
   "execution_count": 46,
   "metadata": {
    "scrolled": true
   },
   "outputs": [],
   "source": [
    "cities = { unidecode(data['name']).lower(): data for data in gc.get_cities().values() }\n",
    "# cities.keys()"
   ]
  },
  {
   "cell_type": "code",
   "execution_count": 54,
   "metadata": {},
   "outputs": [
    {
     "name": "stdout",
     "output_type": "stream",
     "text": [
      "                                              headline countries  \\\n",
      "0                             Zika Outbreak Hits Miami        []   \n",
      "1                      Could Zika Reach New York City?        []   \n",
      "2                    First Case of Zika in Miami Beach        []   \n",
      "3              Mystery Virus Spreads in Recife, Brazil  [brazil]   \n",
      "4              Dallas man comes down with case of Zika        []   \n",
      "..                                                 ...       ...   \n",
      "645  Rumors about Rabies spreading in Jerusalem hav...        []   \n",
      "646              More Zika patients reported in Indang        []   \n",
      "647  Suva authorities confirmed the spread of Rotav...        []   \n",
      "648         More Zika patients reported in Bella Vista        []   \n",
      "649                     Zika Outbreak in Wichita Falls        []   \n",
      "\n",
      "                cities  \n",
      "0              [miami]  \n",
      "1      [new york city]  \n",
      "2    [of, miami beach]  \n",
      "3             [recife]  \n",
      "4    [dallas, man, of]  \n",
      "..                 ...  \n",
      "645        [jerusalem]  \n",
      "646           [indang]  \n",
      "647         [suva, of]  \n",
      "648      [bella vista]  \n",
      "649    [wichita falls]  \n",
      "\n",
      "[650 rows x 3 columns]\n"
     ]
    }
   ],
   "source": [
    "df = pd.DataFrame({'headline': headlines,\n",
    "                  'countries': [matches_in_line(line, countries) for line in headlines],\n",
    "                  'cities': [matches_in_line(line, cities) for line in headlines]})\n",
    "print(df)"
   ]
  },
  {
   "cell_type": "code",
   "execution_count": null,
   "metadata": {},
   "outputs": [],
   "source": []
  }
 ],
 "metadata": {
  "kernelspec": {
   "display_name": "Python 3",
   "language": "python",
   "name": "python3"
  },
  "language_info": {
   "codemirror_mode": {
    "name": "ipython",
    "version": 3
   },
   "file_extension": ".py",
   "mimetype": "text/x-python",
   "name": "python",
   "nbconvert_exporter": "python",
   "pygments_lexer": "ipython3",
   "version": "3.7.6"
  }
 },
 "nbformat": 4,
 "nbformat_minor": 4
}
